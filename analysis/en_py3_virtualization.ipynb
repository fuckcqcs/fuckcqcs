{
 "cells": [
  {
   "cell_type": "code",
   "execution_count": 1,
   "metadata": {},
   "outputs": [],
   "source": [
    "import os\n",
    "import pandas as pd\n",
    "import json\n",
    "import numpy as np\n",
    "from ipyleaflet import Map, GeoJSON, LayersControl, LayerGroup, basemaps, basemap_to_tiles\n",
    "import copy\n",
    "import sys\n",
    "import ipyleaflet"
   ]
  },
  {
   "cell_type": "code",
   "execution_count": 2,
   "metadata": {},
   "outputs": [],
   "source": [
    "def parse_src(name):\n",
    "    if \"国产\" in name:\n",
    "        return \"国产\"\n",
    "    elif \"进口\" in name:\n",
    "        return \"进口\"\n",
    "    else:\n",
    "        return np.nan\n",
    "    \n",
    "def include_name(x):\n",
    "    if not isnan_wrapper(x):\n",
    "        return \"长春生物\" in x\n",
    "    return False\n",
    "\n",
    "def isnan_wrapper(x):\n",
    "    try:\n",
    "        return np.isnan(x)\n",
    "    except:\n",
    "        return False"
   ]
  },
  {
   "cell_type": "markdown",
   "metadata": {},
   "source": [
    "# 数据预处理：\n",
    "* 浙江省的数据格式和别的省份不一样\n",
    "* 移除疫苗名字前后的空格"
   ]
  },
  {
   "cell_type": "code",
   "execution_count": 3,
   "metadata": {},
   "outputs": [],
   "source": [
    "BASE_DIR = '#YOUR_OWN_PATH'\n",
    "csv_files = os.listdir(BASE_DIR) \n",
    "dfs = [pd.read_csv(os.path.join(BASE_DIR, csv_file), engine='python', encoding='utf-8') for csv_file in csv_files]"
   ]
  },
  {
   "cell_type": "code",
   "execution_count": 4,
   "metadata": {},
   "outputs": [],
   "source": [
    "dfs[11]['src'] = map(parse_src, dfs[11]['品名'])\n",
    "dfs[11].rename({\"供应商/生产企业\" : \"create_company\",\n",
    "                \"中标价（元）\": \"price\",\n",
    "                \"品名\" : \"name\"\n",
    "               }, axis = 1, inplace = True)\n",
    "dfs[11]['prov'] = csv_files[11].strip(\".csv\")\n",
    "dfs[11] = dfs[11][['name', 'src', 'create_company', 'prov', 'price']].copy()"
   ]
  },
  {
   "cell_type": "code",
   "execution_count": 5,
   "metadata": {},
   "outputs": [],
   "source": [
    "final_df = pd.concat(dfs, sort=True)\n",
    "final_df.name = final_df.name.apply(lambda x: x.strip())\n",
    "\n",
    "has_data_provs = final_df.prov.unique()\n",
    "vaccinations_affected = final_df[final_df.create_company.apply(include_name)].name.unique()"
   ]
  },
  {
   "cell_type": "markdown",
   "metadata": {},
   "source": [
    "# GeoJson 可视化"
   ]
  },
  {
   "cell_type": "code",
   "execution_count": 6,
   "metadata": {},
   "outputs": [],
   "source": [
    "BASE_DIR2 = '#YOUR_OWN_PATH'\n",
    "with open(os.path.join(BASE_DIR2,  'zh-mainland-provinces.geojson'), 'r', encoding='utf-8') as f:\n",
    "    geo_data = json.load(f)\n",
    "    \n",
    "for feature in geo_data['features']:\n",
    "    if feature['properties']['name_local'] is None:\n",
    "        feature['properties']['name_local'] = \"青海|青海\""
   ]
  },
  {
   "cell_type": "code",
   "execution_count": 7,
   "metadata": {},
   "outputs": [],
   "source": [
    "def prov_affected(prov, included_prov):\n",
    "    # return True if prov is in included_prov\n",
    "    for a_prov in included_prov:\n",
    "        if prov in a_prov:\n",
    "            return True\n",
    "    return False\n",
    "\n",
    "def prov_included(prov, has_data_provs):\n",
    "    # return True if prov is in has_data_provs\n",
    "    for a_prov in has_data_provs:\n",
    "        if prov in a_prov:\n",
    "            return True\n",
    "    return False\n",
    "\n",
    "def prepare_geo_json(vac_name, final_df, geo_data, has_data_provs):\n",
    "    part_df = final_df[np.logical_and(final_df.name == vac_name, '长春生物' == final_df.create_company)]\n",
    "    included_prov = part_df.prov.unique()\n",
    "    geo_data_copy = copy.deepcopy(geo_data)\n",
    "    for idx, feature in enumerate(geo_data_copy['features']):\n",
    "        name = feature['properties']['name_local']\n",
    "        if not name:\n",
    "            continue\n",
    "        # 黑龙江繁体在前 - hardcode\n",
    "        if idx != 30:\n",
    "            prov = name.split(\"|\")[-1].encode('utf-8')\n",
    "        else:\n",
    "            prov = name.split(\"|\")[0].encode('utf-8')\n",
    "\n",
    "        if not prov_included(prov.decode('utf-8'), has_data_provs): # no data - grey\n",
    "            feature['properties']['style'] = {\n",
    "                'color': 'black',\n",
    "                'weight': 1,\n",
    "                'fillColor': 'grey',\n",
    "                'fillOpacity': 0.3\n",
    "            }\n",
    "        elif prov_affected(prov.decode('utf-8'), included_prov): # has affected vaccine - red\n",
    "            feature['properties']['style'] = {\n",
    "                'color': 'black',\n",
    "                'weight': 1,\n",
    "                'fillColor': 'red',\n",
    "                'fillOpacity': 0.3\n",
    "            }\n",
    "        else: # has data but no affected vaccine - white\n",
    "            feature['properties']['style'] = {\n",
    "                'color': 'black',\n",
    "                'weight': 1,\n",
    "                'fillColor': 'white',\n",
    "                'fillOpacity': 0.3\n",
    "            }\n",
    "    return geo_data_copy"
   ]
  },
  {
   "cell_type": "code",
   "execution_count": 10,
   "metadata": {},
   "outputs": [
    {
     "data": {
      "application/vnd.jupyter.widget-view+json": {
       "model_id": "290558941e8b47cb8f5ca7cddf9ad2ea",
       "version_major": 2,
       "version_minor": 0
      },
      "text/plain": [
       "Map(basemap={'url': 'https://{s}.tile.openstreetmap.org/{z}/{x}/{y}.png', 'max_zoom': 19, 'attribution': 'Map …"
      ]
     },
     "metadata": {},
     "output_type": "display_data"
    }
   ],
   "source": [
    "m = Map(center=(39.9042, 116.4074), zoom=4)\n",
    "for vaccination in vaccinations_affected:\n",
    "    geo_json = GeoJSON(data = prepare_geo_json(vaccination, final_df, geo_data, has_data_provs), name = vaccination)\n",
    "    m.add_layer(geo_json)\n",
    "    \n",
    "m.add_control(LayersControl())\n",
    "m\n"
   ]
  },
  {
   "cell_type": "markdown",
   "metadata": {},
   "source": [
    "# Versions"
   ]
  },
  {
   "cell_type": "code",
   "execution_count": 9,
   "metadata": {},
   "outputs": [
    {
     "name": "stdout",
     "output_type": "stream",
     "text": [
      "Versions:\n",
      "-------------\n",
      "python:\n",
      "3.6.3 |Anaconda custom (64-bit)| (default, Oct 15 2017, 03:27:45) [MSC v.1900 64 bit (AMD64)]\n",
      "-------------\n",
      "pandas:\n",
      "\n",
      "INSTALLED VERSIONS\n",
      "------------------\n",
      "commit: None\n",
      "python: 3.6.3.final.0\n",
      "python-bits: 64\n",
      "OS: Windows\n",
      "OS-release: 10\n",
      "machine: AMD64\n",
      "processor: Intel64 Family 6 Model 61 Stepping 4, GenuineIntel\n",
      "byteorder: little\n",
      "LC_ALL: None\n",
      "LANG: ZH\n",
      "LOCALE: None.None\n",
      "\n",
      "pandas: 0.23.3\n",
      "pytest: 3.2.1\n",
      "pip: 9.0.1\n",
      "setuptools: 40.0.0\n",
      "Cython: 0.26.1\n",
      "numpy: 1.14.5\n",
      "scipy: None\n",
      "pyarrow: None\n",
      "xarray: 0.10.8\n",
      "IPython: 6.4.0\n",
      "sphinx: 1.6.3\n",
      "patsy: None\n",
      "dateutil: 2.7.3\n",
      "pytz: 2017.2\n",
      "blosc: None\n",
      "bottleneck: None\n",
      "tables: None\n",
      "numexpr: None\n",
      "feather: None\n",
      "matplotlib: None\n",
      "openpyxl: 2.4.8\n",
      "xlrd: 1.1.0\n",
      "xlwt: 1.3.0\n",
      "xlsxwriter: 1.0.2\n",
      "lxml: 4.1.0\n",
      "bs4: 4.6.0\n",
      "html5lib: 1.0.1\n",
      "sqlalchemy: 1.1.13\n",
      "pymysql: None\n",
      "psycopg2: None\n",
      "jinja2: 2.10\n",
      "s3fs: None\n",
      "fastparquet: None\n",
      "pandas_gbq: None\n",
      "pandas_datareader: None\n",
      "-------------\n",
      "ipyleaflet:\n",
      "0.9.0\n"
     ]
    }
   ],
   "source": [
    "print ('Versions:\\n-------------')\n",
    "print (\"python:\")\n",
    "print (sys.version)\n",
    "print ('-------------')\n",
    "print (\"pandas:\")\n",
    "pd.show_versions()\n",
    "print ('-------------')\n",
    "print (\"ipyleaflet:\")\n",
    "print (ipyleaflet.__version__)"
   ]
  },
  {
   "cell_type": "markdown",
   "metadata": {},
   "source": [
    "GeoJson 来源:\n",
    "\n",
    "https://github.com/clemsos/d3-china-map/blob/master/maps/zh-mainland-provinces.topo.json\n",
    "\n",
    "利用 http://jeffpaine.github.io/geojson-topojson/ 将其转化为geojson\n"
   ]
  }
 ],
 "metadata": {
  "kernelspec": {
   "display_name": "Python 3",
   "language": "python",
   "name": "python3"
  },
  "language_info": {
   "codemirror_mode": {
    "name": "ipython",
    "version": 3
   },
   "file_extension": ".py",
   "mimetype": "text/x-python",
   "name": "python",
   "nbconvert_exporter": "python",
   "pygments_lexer": "ipython3",
   "version": "3.6.3"
  }
 },
 "nbformat": 4,
 "nbformat_minor": 2
}
